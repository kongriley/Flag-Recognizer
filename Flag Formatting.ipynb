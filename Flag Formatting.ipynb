{
 "cells": [
  {
   "cell_type": "code",
   "execution_count": 4,
   "metadata": {
    "collapsed": true
   },
   "outputs": [],
   "source": [
    "from PIL import Image\n",
    "import glob"
   ]
  },
  {
   "cell_type": "code",
   "execution_count": 5,
   "metadata": {
    "collapsed": false
   },
   "outputs": [],
   "source": [
    "flags = glob.glob(\"random**.jpg\") + glob.glob(\"random**.png\")"
   ]
  },
  {
   "cell_type": "code",
   "execution_count": 6,
   "metadata": {
    "collapsed": false
   },
   "outputs": [],
   "source": [
    "for flag in flags:\n",
    "    img = Image.open(flag)\n",
    "    subtract = (img.size[1]-(img.size[0]/1.5))/2 #1.5 for China, 1.9 for America, default 1.5\n",
    "    imgc = img.crop(\n",
    "        (\n",
    "            0,\n",
    "            subtract,\n",
    "            img.size[0],\n",
    "            img.size[1]-subtract\n",
    "        )\n",
    "    )\n",
    "    hsize = int((300/imgc.size[0])*imgc.size[1])\n",
    "    imgs = imgc.resize((300,hsize))\n",
    "    imgs.save(\"save_\"+flag)#flag dataset with _save"
   ]
  },
  {
   "cell_type": "code",
   "execution_count": null,
   "metadata": {
    "collapsed": true
   },
   "outputs": [],
   "source": []
  }
 ],
 "metadata": {
  "kernelspec": {
   "display_name": "Python 3",
   "language": "python",
   "name": "python3"
  },
  "language_info": {
   "codemirror_mode": {
    "name": "ipython",
    "version": 3
   },
   "file_extension": ".py",
   "mimetype": "text/x-python",
   "name": "python",
   "nbconvert_exporter": "python",
   "pygments_lexer": "ipython3",
   "version": "3.6.0"
  }
 },
 "nbformat": 4,
 "nbformat_minor": 2
}
