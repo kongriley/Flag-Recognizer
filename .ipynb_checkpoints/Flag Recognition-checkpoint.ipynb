{
 "cells": [
  {
   "cell_type": "code",
   "execution_count": null,
   "metadata": {
    "collapsed": false
   },
   "outputs": [],
   "source": [
    "from numpy import exp, array, random, dot\n",
    "from scipy import misc\n",
    "import skimage"
   ]
  },
  {
   "cell_type": "code",
   "execution_count": null,
   "metadata": {
    "collapsed": false
   },
   "outputs": [],
   "source": [
    "arr1 = misc.imread('tAmerica1.png')\n",
    "arr1r = arr1[:,:,0]\n",
    "arr1g = arr1[:,:,1]\n",
    "arr1b = arr1[:,:,2]\n",
    "arr2 = misc.imread('tAmerica2.png')\n",
    "arr2r = arr2[:,:,0]\n",
    "arr2g = arr2[:,:,1]\n",
    "arr2b = arr2[:,:,2]"
   ]
  },
  {
   "cell_type": "code",
   "execution_count": null,
   "metadata": {
    "collapsed": false
   },
   "outputs": [],
   "source": [
    "filterNum = 9\n",
    "filterSize = 10\n",
    "filters = []"
   ]
  },
  {
   "cell_type": "code",
   "execution_count": null,
   "metadata": {
    "collapsed": false
   },
   "outputs": [],
   "source": [
    "for x in range(filterSize*3):\n",
    "    filters += [random.random((filterSize,filterSize))]\n",
    "filters = array(filters)"
   ]
  },
  {
   "cell_type": "code",
   "execution_count": null,
   "metadata": {
    "collapsed": false
   },
   "outputs": [],
   "source": [
    "print(filters)"
   ]
  },
  {
   "cell_type": "code",
   "execution_count": null,
   "metadata": {
    "collapsed": false
   },
   "outputs": [],
   "source": [
    "def apply(filterArr, img, row, col):\n",
    "    new_img = []\n",
    "    for y in range(len(filterArr)):\n",
    "        new_img.append([])\n",
    "        for x in range(len(filterArr[0])):\n",
    "            new_img[y].append(img[y+row][x+col]*filterArr[y][x])\n",
    "    return new_img\n",
    "print(apply(filters[0],arr1r,0,0))"
   ]
  },
  {
   "cell_type": "code",
   "execution_count": null,
   "metadata": {
    "collapsed": true
   },
   "outputs": [],
   "source": []
  }
 ],
 "metadata": {
  "kernelspec": {
   "display_name": "Python 3",
   "language": "python",
   "name": "python3"
  },
  "language_info": {
   "codemirror_mode": {
    "name": "ipython",
    "version": 3
   },
   "file_extension": ".py",
   "mimetype": "text/x-python",
   "name": "python",
   "nbconvert_exporter": "python",
   "pygments_lexer": "ipython3",
   "version": "3.6.0"
  }
 },
 "nbformat": 4,
 "nbformat_minor": 2
}
