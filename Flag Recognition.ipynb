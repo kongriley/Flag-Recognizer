{
 "cells": [
  {
   "cell_type": "code",
   "execution_count": 13,
   "metadata": {
    "collapsed": false
   },
   "outputs": [],
   "source": [
    "### Importing ###\n",
    "from numpy import exp, array, random, dot #imports linear algebra operations/types\n",
    "import numpy as np #operations in numpy\n",
    "from scipy import misc #misc. operations in scipy\n",
    "import skimage\n",
    "import math \n",
    "from __future__ import with_statement"
   ]
  },
  {
   "cell_type": "code",
   "execution_count": 14,
   "metadata": {
    "collapsed": false
   },
   "outputs": [],
   "source": [
    "### Get picture data ###\n",
    "arr1 = np.divide(misc.imread('save_save_save_america02.png'),255) #read 1st image, divide by 255 for number between 0 and 1\n",
    "arr1r = arr1[:,:,0] #reds\n",
    "arr1g = arr1[:,:,1] #greens\n",
    "arr1b = arr1[:,:,2] #blues\n",
    "arr2 = np.divide(misc.imread('tAmerica2.png'),255)\n",
    "arr2r = arr2[:,:,0]\n",
    "arr2g = arr2[:,:,1]\n",
    "arr2b = arr2[:,:,2]"
   ]
  },
  {
   "cell_type": "code",
   "execution_count": 26,
   "metadata": {
    "collapsed": false
   },
   "outputs": [],
   "source": [
    "### Hyper-parameters ###\n",
    "layerSize = 30 #number of filters in a layer\n",
    "layerNum = 3 #number of layers\n",
    "filterSize = 3 #size of filter\n",
    "epochs = 10 #number of times trained\n",
    "filters = [] #init filter\n",
    "bias = 0.01\n",
    "targets = np.ones((len(arr1r)*len(arr1r[0])*layerSize)) #target values"
   ]
  },
  {
   "cell_type": "code",
   "execution_count": 27,
   "metadata": {
    "collapsed": false
   },
   "outputs": [],
   "source": [
    "### Variables based on hyper-params ###\n",
    "filterNum = layerSize**2 #number of filters per layer\n",
    "totalFilterNum = filterNum*layerNum #total number of filters"
   ]
  },
  {
   "cell_type": "code",
   "execution_count": 28,
   "metadata": {
    "collapsed": false
   },
   "outputs": [
    {
     "name": "stdout",
     "output_type": "stream",
     "text": [
      "[[[[ -3.64212952e-03   2.90344116e-03  -3.63817655e-03]\n",
      "   [  2.32708067e-03   4.69171657e-03   4.33176425e-03]\n",
      "   [  3.24594836e-03   2.98314503e-03   1.40891572e-03]]\n",
      "\n",
      "  [[ -2.78612659e-03  -2.12143949e-04   3.07737480e-03]\n",
      "   [  4.47170856e-03  -5.04215412e-04   3.50104093e-03]\n",
      "   [ -3.14571840e-03  -2.04947062e-04  -1.36703756e-03]]\n",
      "\n",
      "  [[ -4.21614588e-03   2.11389774e-03   3.44428978e-03]\n",
      "   [  8.41532931e-04  -4.47485336e-03   2.07061917e-03]\n",
      "   [ -4.06369263e-03   3.08984921e-03   4.79958936e-03]]\n",
      "\n",
      "  ..., \n",
      "  [[  4.74215951e-03  -1.06786966e-03  -1.69972541e-03]\n",
      "   [ -2.70899350e-03   3.34040364e-03  -3.41510849e-04]\n",
      "   [ -3.19125313e-03  -4.84400266e-03  -3.93309850e-03]]\n",
      "\n",
      "  [[ -9.97224287e-04  -3.12132106e-03  -4.36613504e-03]\n",
      "   [ -8.66840510e-04   1.43947922e-03  -6.63015663e-04]\n",
      "   [  1.12994189e-03   4.97048779e-03   4.11373093e-03]]\n",
      "\n",
      "  [[ -3.43088792e-03  -1.09938195e-03   3.10065182e-03]\n",
      "   [  2.28344337e-03   3.87323862e-03   1.33554317e-03]\n",
      "   [  1.22997064e-05  -2.70354696e-03  -3.95483551e-03]]]\n",
      "\n",
      "\n",
      " [[[  4.09127426e-04  -3.78944315e-03   1.36821924e-03]\n",
      "   [  2.34041733e-03  -7.62418668e-04   1.58344613e-03]\n",
      "   [ -3.10498703e-04  -2.36708168e-03   2.70834471e-03]]\n",
      "\n",
      "  [[ -1.24253407e-03   4.06264659e-04  -2.86007625e-03]\n",
      "   [  8.72344176e-04   3.29268893e-03  -3.75885667e-03]\n",
      "   [  1.05179485e-03   1.00215163e-04  -3.99358007e-03]]\n",
      "\n",
      "  [[ -1.37401766e-03   1.18462946e-03  -3.25411003e-05]\n",
      "   [  4.20899284e-03  -1.87301239e-04  -3.93902455e-03]\n",
      "   [  3.99239605e-03   3.09860226e-03   4.24463132e-03]]\n",
      "\n",
      "  ..., \n",
      "  [[  2.35396087e-03   4.70760622e-03  -3.25742940e-05]\n",
      "   [  2.10991648e-03   2.78710976e-03  -2.10462600e-04]\n",
      "   [ -4.03609886e-03  -1.92431833e-03  -3.60103948e-03]]\n",
      "\n",
      "  [[ -3.07413297e-03  -7.28858778e-04  -9.38758454e-04]\n",
      "   [  3.48948512e-04  -3.58605686e-03   4.99786281e-03]\n",
      "   [  1.74774426e-03  -2.90597492e-03  -4.68415197e-03]]\n",
      "\n",
      "  [[ -4.45155070e-03   9.83598444e-04   1.63215964e-03]\n",
      "   [  4.76067045e-03   2.95243017e-03   4.61988190e-03]\n",
      "   [ -3.92501197e-03   1.03934440e-03  -4.48713230e-03]]]\n",
      "\n",
      "\n",
      " [[[  2.78250704e-03  -4.35950508e-03   9.37694270e-04]\n",
      "   [  1.10515360e-03   8.60825027e-04  -5.67469664e-04]\n",
      "   [  2.70894995e-03   1.83188178e-03   4.20579962e-03]]\n",
      "\n",
      "  [[  3.06346916e-03  -3.21662224e-03  -3.21142642e-03]\n",
      "   [  1.74143663e-03   1.63826787e-03   3.66073299e-03]\n",
      "   [  3.14778034e-03   3.05332712e-03   2.23925461e-04]]\n",
      "\n",
      "  [[  3.35778507e-03   1.12375927e-04   2.90983958e-04]\n",
      "   [  2.74043178e-03  -1.45051690e-03   4.51215336e-04]\n",
      "   [ -2.43299228e-03  -3.88988498e-03  -4.11968234e-03]]\n",
      "\n",
      "  ..., \n",
      "  [[  1.30413490e-04   4.92879406e-03   1.43572625e-03]\n",
      "   [ -4.37928115e-03   3.75709558e-03  -3.53949322e-03]\n",
      "   [ -2.99898405e-05   4.72884063e-03   3.37345186e-04]]\n",
      "\n",
      "  [[  2.64398357e-03   7.78035922e-04   4.64543307e-03]\n",
      "   [  3.50889577e-03   1.22029988e-03  -2.20823159e-03]\n",
      "   [  2.28794979e-03   2.21548655e-03   6.39328102e-04]]\n",
      "\n",
      "  [[ -4.08615842e-03  -4.86920159e-03   2.73067412e-03]\n",
      "   [  3.61674916e-03   3.29776708e-03  -3.92739968e-03]\n",
      "   [ -4.63455244e-03   3.98123084e-03  -3.00628316e-04]]]]\n"
     ]
    }
   ],
   "source": [
    "### Set filters ###\n",
    "def setFilters():\n",
    "    global filters #Filters is a global variable\n",
    "    filters = 0.01*random.random((layerNum, filterNum, filterSize, filterSize))-0.005 #Set filters to random 4d array\n",
    "setFilters()\n",
    "print(filters)"
   ]
  },
  {
   "cell_type": "code",
   "execution_count": 29,
   "metadata": {
    "collapsed": false
   },
   "outputs": [
    {
     "name": "stdout",
     "output_type": "stream",
     "text": [
      "0.0\n"
     ]
    }
   ],
   "source": [
    "### Helper functions ###\n",
    "#Activation function (Leaky ReLU)\n",
    "def activation(x, deriv=False, leak=-0.01):\n",
    "    new_x=np.copy(array(x)) #Create a copy of x\n",
    "    if deriv: #If you want to activate derivative\n",
    "        #Calculation of derivative of leaky ReLU\n",
    "        new_x[x > 0] = 1 \n",
    "        new_x[x <= 0] = leak\n",
    "        return new_x\n",
    "    #Calculation of leaky ReLU\n",
    "    new_x[x < 0] *= leak\n",
    "    new_x = x * (x > 0)\n",
    "    return new_x\n",
    "#Sum with no negatives (not used)\n",
    "'''\n",
    "def sumNoNeg(arr):\n",
    "    result = 0\n",
    "    for y in range(len(arr)):\n",
    "        for x in range(len(arr[0])):\n",
    "            result += max(arr[y][x],0)\n",
    "    return result\n",
    "'''\n",
    "#Apply cross-correlation for 1 index\n",
    "def apply(filterArr, img, row, col):\n",
    "    value = 0 #Init value\n",
    "    halfFil = int(filterSize/2) #Half of filterSize\n",
    "    padImg = np.pad(img, [(halfFil,halfFil),(halfFil,halfFil)],'constant', constant_values=(0)) #Pad image with 0's\n",
    "    for x in range(filterSize): \n",
    "        for y in range(filterSize): #Apply over all filter\n",
    "            value += padImg[x+row][y+col]*filterArr[x][y] #Add image multiplied by filter\n",
    "    return value\n",
    "#Softmax function\n",
    "def softmax(x):\n",
    "#     exps = np.exp(x - x.max())\n",
    "#     return exps / np.sum(exps)\n",
    "    print(x)\n",
    "    return np.exp(x) / np.sum(np.exp(x), axis=0) #Calculate softmax\n",
    "print(apply(filters[1][1],arr1r,0,0))"
   ]
  },
  {
   "cell_type": "code",
   "execution_count": 30,
   "metadata": {
    "collapsed": false,
    "scrolled": true
   },
   "outputs": [],
   "source": [
    "### Apply filters ###\n",
    "def applyFilters(img, new_img, filterArr):\n",
    "    for y in range(len(img)):\n",
    "        for x in range(len(img[y])): #Apply over all image\n",
    "            new_img[y][x] += activation(apply(filterArr,img,y,x))+bias#Add up all cross-correlations (with ReLU)\n",
    "    return new_img"
   ]
  },
  {
   "cell_type": "code",
   "execution_count": 31,
   "metadata": {
    "collapsed": false
   },
   "outputs": [],
   "source": [
    "### Pooling ###\n",
    "def pool(img, size):\n",
    "    pad_w = size-len(img)%size\n",
    "    pad_h = size-len(img[0])%size\n",
    "    if pad_w == size:\n",
    "        pad_w = 0\n",
    "    if pad_h == size:\n",
    "        pad_h = 0\n",
    "    new_img = np.lib.pad(array(img), ((0,pad_w),(0,pad_h)), 'edge') #Pad image\n",
    "    k = len(new_img)/size #Width of new image \n",
    "    l = len(new_img[0])/size #Height of new image\n",
    "    return new_img.reshape(int(k),size,int(l),size).max(axis=(-1,-3)) #Arrange image into groups of size*size, then get max on axis"
   ]
  },
  {
   "cell_type": "code",
   "execution_count": 32,
   "metadata": {
    "collapsed": false
   },
   "outputs": [
    {
     "ename": "IndexError",
     "evalue": "list index out of range",
     "output_type": "error",
     "traceback": [
      "\u001b[0;31m---------------------------------------------------------------------------\u001b[0m",
      "\u001b[0;31mIndexError\u001b[0m                                Traceback (most recent call last)",
      "\u001b[0;32m<ipython-input-32-13decb9c358b>\u001b[0m in \u001b[0;36m<module>\u001b[0;34m()\u001b[0m\n\u001b[1;32m     23\u001b[0m     \u001b[0moutputLayers\u001b[0m\u001b[0;34m.\u001b[0m\u001b[0mappend\u001b[0m\u001b[0;34m(\u001b[0m\u001b[0msoftmax\u001b[0m\u001b[0;34m(\u001b[0m\u001b[0marray\u001b[0m\u001b[0;34m(\u001b[0m\u001b[0moutputLayers\u001b[0m\u001b[0;34m[\u001b[0m\u001b[0mlen\u001b[0m\u001b[0;34m(\u001b[0m\u001b[0moutputLayers\u001b[0m\u001b[0;34m)\u001b[0m\u001b[0;34m-\u001b[0m\u001b[0;36m1\u001b[0m\u001b[0;34m]\u001b[0m\u001b[0;34m)\u001b[0m\u001b[0;34m.\u001b[0m\u001b[0mflatten\u001b[0m\u001b[0;34m(\u001b[0m\u001b[0;34m)\u001b[0m\u001b[0;34m)\u001b[0m\u001b[0;34m)\u001b[0m \u001b[0;31m#Add flattened softmaxed array\u001b[0m\u001b[0;34m\u001b[0m\u001b[0m\n\u001b[1;32m     24\u001b[0m     \u001b[0;32mreturn\u001b[0m \u001b[0moutputLayers\u001b[0m\u001b[0;34m\u001b[0m\u001b[0m\n\u001b[0;32m---> 25\u001b[0;31m \u001b[0mout\u001b[0m \u001b[0;34m=\u001b[0m \u001b[0mforward\u001b[0m\u001b[0;34m(\u001b[0m\u001b[0marr1\u001b[0m\u001b[0;34m)\u001b[0m\u001b[0;34m\u001b[0m\u001b[0m\n\u001b[0m\u001b[1;32m     26\u001b[0m \u001b[0mprint\u001b[0m\u001b[0;34m(\u001b[0m\u001b[0mout\u001b[0m\u001b[0;34m)\u001b[0m\u001b[0;34m\u001b[0m\u001b[0m\n",
      "\u001b[0;32m<ipython-input-32-13decb9c358b>\u001b[0m in \u001b[0;36mforward\u001b[0;34m(img)\u001b[0m\n\u001b[1;32m      5\u001b[0m         \u001b[0moutputLayers\u001b[0m\u001b[0;34m.\u001b[0m\u001b[0mappend\u001b[0m\u001b[0;34m(\u001b[0m\u001b[0;34m[\u001b[0m\u001b[0;34m]\u001b[0m\u001b[0;34m)\u001b[0m \u001b[0;31m#Append a new layer\u001b[0m\u001b[0;34m\u001b[0m\u001b[0m\n\u001b[1;32m      6\u001b[0m         \u001b[0;32mfor\u001b[0m \u001b[0mlay\u001b[0m \u001b[0;32min\u001b[0m \u001b[0mrange\u001b[0m\u001b[0;34m(\u001b[0m\u001b[0mlayerSize\u001b[0m\u001b[0;34m)\u001b[0m\u001b[0;34m:\u001b[0m\u001b[0;34m\u001b[0m\u001b[0m\n\u001b[0;32m----> 7\u001b[0;31m             \u001b[0moutputLayers\u001b[0m\u001b[0;34m[\u001b[0m\u001b[0mnum\u001b[0m\u001b[0;34m+\u001b[0m\u001b[0;36m1\u001b[0m\u001b[0;34m]\u001b[0m\u001b[0;34m.\u001b[0m\u001b[0mappend\u001b[0m\u001b[0;34m(\u001b[0m\u001b[0mnp\u001b[0m\u001b[0;34m.\u001b[0m\u001b[0mzeros\u001b[0m\u001b[0;34m(\u001b[0m\u001b[0;34m(\u001b[0m\u001b[0mlen\u001b[0m\u001b[0;34m(\u001b[0m\u001b[0moutputLayers\u001b[0m\u001b[0;34m[\u001b[0m\u001b[0mnum\u001b[0m\u001b[0;34m]\u001b[0m\u001b[0;34m[\u001b[0m\u001b[0mlay\u001b[0m\u001b[0;34m]\u001b[0m\u001b[0;34m)\u001b[0m\u001b[0;34m,\u001b[0m \u001b[0mlen\u001b[0m\u001b[0;34m(\u001b[0m\u001b[0moutputLayers\u001b[0m\u001b[0;34m[\u001b[0m\u001b[0mnum\u001b[0m\u001b[0;34m]\u001b[0m\u001b[0;34m[\u001b[0m\u001b[0mlay\u001b[0m\u001b[0;34m]\u001b[0m\u001b[0;34m[\u001b[0m\u001b[0;36m0\u001b[0m\u001b[0;34m]\u001b[0m\u001b[0;34m)\u001b[0m\u001b[0;34m)\u001b[0m\u001b[0;34m)\u001b[0m\u001b[0;34m)\u001b[0m\u001b[0;34m\u001b[0m\u001b[0m\n\u001b[0m\u001b[1;32m      8\u001b[0m             \u001b[0;31m# Add components of the layer\u001b[0m\u001b[0;34m\u001b[0m\u001b[0;34m\u001b[0m\u001b[0m\n\u001b[1;32m      9\u001b[0m             \u001b[0moutputLayers\u001b[0m\u001b[0;34m[\u001b[0m\u001b[0mnum\u001b[0m\u001b[0;34m]\u001b[0m\u001b[0;34m[\u001b[0m\u001b[0mlay\u001b[0m\u001b[0;34m]\u001b[0m \u001b[0;34m=\u001b[0m \u001b[0mpool\u001b[0m\u001b[0;34m(\u001b[0m\u001b[0moutputLayers\u001b[0m\u001b[0;34m[\u001b[0m\u001b[0mnum\u001b[0m\u001b[0;34m]\u001b[0m\u001b[0;34m[\u001b[0m\u001b[0mlay\u001b[0m\u001b[0;34m]\u001b[0m\u001b[0;34m,\u001b[0m \u001b[0;36m2\u001b[0m\u001b[0;34m)\u001b[0m\u001b[0;34m\u001b[0m\u001b[0m\n",
      "\u001b[0;31mIndexError\u001b[0m: list index out of range"
     ]
    }
   ],
   "source": [
    "### Forward-propagation ###\n",
    "def forward(img):\n",
    "    outputLayers = [[img[:,:,0],img[:,:,1],img[:,:,2]]] #Get all the image \n",
    "    for num in range(layerNum):\n",
    "        outputLayers.append([]) #Append a new layer\n",
    "        for lay in range(layerSize):\n",
    "            outputLayers[num+1].append(np.zeros((len(outputLayers[num][lay]), len(outputLayers[num][lay][0]))))\n",
    "            # Add components of the layer\n",
    "            outputLayers[num][lay] = pool(outputLayers[num][lay], 2)\n",
    "            # Do pooling\n",
    "        #lay1 is the layer index you are at and lay2 is the layer index you are going to\n",
    "        for lay1 in range(layerSize):\n",
    "            for lay2 in range(layerSize):\n",
    "                newImage = outputLayers[num+1][lay2] #Get refrence to next layer\n",
    "#                 newImage += bias\n",
    "#                 print(\"S-O: (\"+str(len(outputLayers))+\", \"+str(len(outputLayers[0]))+\")\")\n",
    "#                 print(\"S-F: (\"+str(len(filters))+\", \"+str(len(filters[0]))+\")\")\n",
    "                applyFilters(outputLayers[num][lay1], newImage, filters[num][layerSize*lay1+lay2])\n",
    "                #Apply corresponding filter\n",
    "                if (filterNum*num + layerSize*lay1+lay2) % 20 == 0:\n",
    "                    print(filterNum*num + layerSize*lay1+lay2)\n",
    "#                 print(newImage)\n",
    "    outputLayers.append(softmax(array(outputLayers[len(outputLayers)-1]).flatten())) #Add flattened softmaxed array\n",
    "    return outputLayers\n",
    "out = forward(arr1)\n",
    "print(out)"
   ]
  },
  {
   "cell_type": "code",
   "execution_count": 33,
   "metadata": {
    "collapsed": false
   },
   "outputs": [
    {
     "ename": "ValueError",
     "evalue": "operands could not be broadcast together with shapes (1200,) (12000,) ",
     "output_type": "error",
     "traceback": [
      "\u001b[0;31m---------------------------------------------------------------------------\u001b[0m",
      "\u001b[0;31mValueError\u001b[0m                                Traceback (most recent call last)",
      "\u001b[0;32m<ipython-input-33-9002fb11987e>\u001b[0m in \u001b[0;36m<module>\u001b[0;34m()\u001b[0m\n\u001b[1;32m     29\u001b[0m             \u001b[0mr\u001b[0m\u001b[0;34m+=\u001b[0m\u001b[0;36m1\u001b[0m\u001b[0;34m\u001b[0m\u001b[0m\n\u001b[1;32m     30\u001b[0m     \u001b[0mback\u001b[0m\u001b[0;34m(\u001b[0m\u001b[0mlayer\u001b[0m\u001b[0;34m-\u001b[0m\u001b[0;36m1\u001b[0m\u001b[0;34m,\u001b[0m \u001b[0mnew_grad\u001b[0m\u001b[0;34m)\u001b[0m\u001b[0;34m\u001b[0m\u001b[0m\n\u001b[0;32m---> 31\u001b[0;31m \u001b[0mbackout\u001b[0m \u001b[0;34m=\u001b[0m \u001b[0mback\u001b[0m\u001b[0;34m(\u001b[0m\u001b[0mlayerNum\u001b[0m\u001b[0;34m,\u001b[0m \u001b[0mnp\u001b[0m\u001b[0;34m.\u001b[0m\u001b[0mones\u001b[0m\u001b[0;34m(\u001b[0m\u001b[0;34m(\u001b[0m\u001b[0mfilterNum\u001b[0m\u001b[0;34m,\u001b[0m\u001b[0mfilterSize\u001b[0m\u001b[0;34m,\u001b[0m\u001b[0mfilterSize\u001b[0m\u001b[0;34m)\u001b[0m\u001b[0;34m)\u001b[0m\u001b[0;34m)\u001b[0m\u001b[0;34m\u001b[0m\u001b[0m\n\u001b[0m\u001b[1;32m     32\u001b[0m \u001b[0;31m#take all output from prev. layer, multiply by corresponding gradient = new deltas\u001b[0m\u001b[0;34m\u001b[0m\u001b[0;34m\u001b[0m\u001b[0m\n",
      "\u001b[0;32m<ipython-input-33-9002fb11987e>\u001b[0m in \u001b[0;36mback\u001b[0;34m(layer, grad)\u001b[0m\n\u001b[1;32m      1\u001b[0m \u001b[0;31m### Error + Back-propagation ###\u001b[0m\u001b[0;34m\u001b[0m\u001b[0;34m\u001b[0m\u001b[0m\n\u001b[1;32m      2\u001b[0m \u001b[0;32mdef\u001b[0m \u001b[0mback\u001b[0m\u001b[0;34m(\u001b[0m\u001b[0mlayer\u001b[0m\u001b[0;34m,\u001b[0m \u001b[0mgrad\u001b[0m\u001b[0;34m)\u001b[0m\u001b[0;34m:\u001b[0m\u001b[0;34m\u001b[0m\u001b[0m\n\u001b[0;32m----> 3\u001b[0;31m     \u001b[0merror\u001b[0m \u001b[0;34m=\u001b[0m \u001b[0;34m-\u001b[0m\u001b[0mnp\u001b[0m\u001b[0;34m.\u001b[0m\u001b[0msum\u001b[0m\u001b[0;34m(\u001b[0m\u001b[0mnp\u001b[0m\u001b[0;34m.\u001b[0m\u001b[0mmultiply\u001b[0m\u001b[0;34m(\u001b[0m\u001b[0mnp\u001b[0m\u001b[0;34m.\u001b[0m\u001b[0mlog10\u001b[0m\u001b[0;34m(\u001b[0m\u001b[0mout\u001b[0m\u001b[0;34m[\u001b[0m\u001b[0mlen\u001b[0m\u001b[0;34m(\u001b[0m\u001b[0mout\u001b[0m\u001b[0;34m)\u001b[0m\u001b[0;34m-\u001b[0m\u001b[0;36m1\u001b[0m\u001b[0;34m]\u001b[0m\u001b[0;34m)\u001b[0m\u001b[0;34m,\u001b[0m\u001b[0mtargets\u001b[0m\u001b[0;34m)\u001b[0m\u001b[0;34m)\u001b[0m \u001b[0;31m# negative sum of log(out) times target- cross-entropy\u001b[0m\u001b[0;34m\u001b[0m\u001b[0m\n\u001b[0m\u001b[1;32m      4\u001b[0m     \u001b[0mprint\u001b[0m\u001b[0;34m(\u001b[0m\u001b[0;34m\"ERROR: \"\u001b[0m\u001b[0;34m+\u001b[0m\u001b[0mstr\u001b[0m\u001b[0;34m(\u001b[0m\u001b[0merror\u001b[0m\u001b[0;34m)\u001b[0m\u001b[0;34m)\u001b[0m\u001b[0;34m\u001b[0m\u001b[0m\n\u001b[1;32m      5\u001b[0m     \u001b[0;32mif\u001b[0m \u001b[0mlayer\u001b[0m\u001b[0;34m==\u001b[0m\u001b[0;36m0\u001b[0m\u001b[0;34m:\u001b[0m\u001b[0;34m\u001b[0m\u001b[0m\n",
      "\u001b[0;31mValueError\u001b[0m: operands could not be broadcast together with shapes (1200,) (12000,) "
     ]
    }
   ],
   "source": [
    "### Error + Back-propagation ###\n",
    "def back(layer, grad):\n",
    "    error = -np.sum(np.multiply(np.log10(out[len(out)-1]),targets)) # negative sum of log(out) times target- cross-entropy\n",
    "    print(\"ERROR: \"+str(error))\n",
    "    if layer==0:\n",
    "        return\n",
    "    print(layer)\n",
    "    #keep array of all gradients/changes/deltas\n",
    "    new_grad = np.zeros((filterNum,filterSize,filterSize))\n",
    "    for x in range(filterNum):\n",
    "        r = 0\n",
    "#        0 print(\"Filter S:\"+str(len(filters)))\n",
    "#         print(layerNum)\n",
    "        for row in filters[layer-1][x]:\n",
    "            c=0\n",
    "            for w in row:\n",
    "                new_grad[x][r][c]=0.01*np.multiply(error,np.mean(np.multiply(np.multiply(\n",
    "                    activation(array(out[layer]),deriv=True),\n",
    "                    w),\n",
    "                    grad[x][r][c])))\n",
    "#                 print(-0.01*np.multiply(error,np.mean(np.multiply(np.multiply(\n",
    "#                     activation(array(out[layer]),deriv=True),\n",
    "#                     w),\n",
    "#                     grad[x][r][c]))))\n",
    "#                 print(-np.divide(error,np.sum(np.multiply(np.multiply(out[layer-1], w), grad[x][r][c]))))\n",
    "#                 print(new_grad[x][r][c])\n",
    "                filters[layer-1][x][r][c]+=new_grad[x][r][c]\n",
    "                c+=1\n",
    "            r+=1\n",
    "    back(layer-1, new_grad)\n",
    "backout = back(layerNum, np.ones((filterNum,filterSize,filterSize)))\n",
    "#take all output from prev. layer, multiply by corresponding gradient = new deltas "
   ]
  },
  {
   "cell_type": "code",
   "execution_count": 34,
   "metadata": {
    "collapsed": false
   },
   "outputs": [
    {
     "data": {
      "text/plain": [
       "{'divide': 'raise', 'invalid': 'raise', 'over': 'raise', 'under': 'ignore'}"
      ]
     },
     "execution_count": 34,
     "metadata": {},
     "output_type": "execute_result"
    }
   ],
   "source": [
    "setFilters()\n",
    "np.seterr(divide='raise')\n",
    "np.seterr(invalid='raise')\n",
    "np.seterr(over='raise')"
   ]
  },
  {
   "cell_type": "code",
   "execution_count": 35,
   "metadata": {
    "collapsed": false,
    "scrolled": true
   },
   "outputs": [
    {
     "ename": "IndexError",
     "evalue": "list index out of range",
     "output_type": "error",
     "traceback": [
      "\u001b[0;31m---------------------------------------------------------------------------\u001b[0m",
      "\u001b[0;31mIndexError\u001b[0m                                Traceback (most recent call last)",
      "\u001b[0;32m<ipython-input-35-800cfe1e561b>\u001b[0m in \u001b[0;36m<module>\u001b[0;34m()\u001b[0m\n\u001b[1;32m      1\u001b[0m \u001b[0;32mfor\u001b[0m \u001b[0mx\u001b[0m \u001b[0;32min\u001b[0m \u001b[0mrange\u001b[0m\u001b[0;34m(\u001b[0m\u001b[0mepochs\u001b[0m\u001b[0;34m)\u001b[0m\u001b[0;34m:\u001b[0m\u001b[0;34m\u001b[0m\u001b[0m\n\u001b[0;32m----> 2\u001b[0;31m     \u001b[0mout\u001b[0m \u001b[0;34m=\u001b[0m \u001b[0mforward\u001b[0m\u001b[0;34m(\u001b[0m\u001b[0marr1\u001b[0m\u001b[0;34m)\u001b[0m\u001b[0;34m\u001b[0m\u001b[0m\n\u001b[0m\u001b[1;32m      3\u001b[0m \u001b[0;31m#     error = -np.sum(np.multiply(np.log10(out[len(out)-1]),targets))\u001b[0m\u001b[0;34m\u001b[0m\u001b[0;34m\u001b[0m\u001b[0m\n\u001b[1;32m      4\u001b[0m \u001b[0;31m#     print(error)\u001b[0m\u001b[0;34m\u001b[0m\u001b[0;34m\u001b[0m\u001b[0m\n\u001b[1;32m      5\u001b[0m \u001b[0;31m#     print(filters)\u001b[0m\u001b[0;34m\u001b[0m\u001b[0;34m\u001b[0m\u001b[0m\n",
      "\u001b[0;32m<ipython-input-32-13decb9c358b>\u001b[0m in \u001b[0;36mforward\u001b[0;34m(img)\u001b[0m\n\u001b[1;32m      5\u001b[0m         \u001b[0moutputLayers\u001b[0m\u001b[0;34m.\u001b[0m\u001b[0mappend\u001b[0m\u001b[0;34m(\u001b[0m\u001b[0;34m[\u001b[0m\u001b[0;34m]\u001b[0m\u001b[0;34m)\u001b[0m \u001b[0;31m#Append a new layer\u001b[0m\u001b[0;34m\u001b[0m\u001b[0m\n\u001b[1;32m      6\u001b[0m         \u001b[0;32mfor\u001b[0m \u001b[0mlay\u001b[0m \u001b[0;32min\u001b[0m \u001b[0mrange\u001b[0m\u001b[0;34m(\u001b[0m\u001b[0mlayerSize\u001b[0m\u001b[0;34m)\u001b[0m\u001b[0;34m:\u001b[0m\u001b[0;34m\u001b[0m\u001b[0m\n\u001b[0;32m----> 7\u001b[0;31m             \u001b[0moutputLayers\u001b[0m\u001b[0;34m[\u001b[0m\u001b[0mnum\u001b[0m\u001b[0;34m+\u001b[0m\u001b[0;36m1\u001b[0m\u001b[0;34m]\u001b[0m\u001b[0;34m.\u001b[0m\u001b[0mappend\u001b[0m\u001b[0;34m(\u001b[0m\u001b[0mnp\u001b[0m\u001b[0;34m.\u001b[0m\u001b[0mzeros\u001b[0m\u001b[0;34m(\u001b[0m\u001b[0;34m(\u001b[0m\u001b[0mlen\u001b[0m\u001b[0;34m(\u001b[0m\u001b[0moutputLayers\u001b[0m\u001b[0;34m[\u001b[0m\u001b[0mnum\u001b[0m\u001b[0;34m]\u001b[0m\u001b[0;34m[\u001b[0m\u001b[0mlay\u001b[0m\u001b[0;34m]\u001b[0m\u001b[0;34m)\u001b[0m\u001b[0;34m,\u001b[0m \u001b[0mlen\u001b[0m\u001b[0;34m(\u001b[0m\u001b[0moutputLayers\u001b[0m\u001b[0;34m[\u001b[0m\u001b[0mnum\u001b[0m\u001b[0;34m]\u001b[0m\u001b[0;34m[\u001b[0m\u001b[0mlay\u001b[0m\u001b[0;34m]\u001b[0m\u001b[0;34m[\u001b[0m\u001b[0;36m0\u001b[0m\u001b[0;34m]\u001b[0m\u001b[0;34m)\u001b[0m\u001b[0;34m)\u001b[0m\u001b[0;34m)\u001b[0m\u001b[0;34m)\u001b[0m\u001b[0;34m\u001b[0m\u001b[0m\n\u001b[0m\u001b[1;32m      8\u001b[0m             \u001b[0;31m# Add components of the layer\u001b[0m\u001b[0;34m\u001b[0m\u001b[0;34m\u001b[0m\u001b[0m\n\u001b[1;32m      9\u001b[0m             \u001b[0moutputLayers\u001b[0m\u001b[0;34m[\u001b[0m\u001b[0mnum\u001b[0m\u001b[0;34m]\u001b[0m\u001b[0;34m[\u001b[0m\u001b[0mlay\u001b[0m\u001b[0;34m]\u001b[0m \u001b[0;34m=\u001b[0m \u001b[0mpool\u001b[0m\u001b[0;34m(\u001b[0m\u001b[0moutputLayers\u001b[0m\u001b[0;34m[\u001b[0m\u001b[0mnum\u001b[0m\u001b[0;34m]\u001b[0m\u001b[0;34m[\u001b[0m\u001b[0mlay\u001b[0m\u001b[0;34m]\u001b[0m\u001b[0;34m,\u001b[0m \u001b[0;36m2\u001b[0m\u001b[0;34m)\u001b[0m\u001b[0;34m\u001b[0m\u001b[0m\n",
      "\u001b[0;31mIndexError\u001b[0m: list index out of range"
     ]
    }
   ],
   "source": [
    "for x in range(epochs):\n",
    "    out = forward(arr1)\n",
    "#     error = -np.sum(np.multiply(np.log10(out[len(out)-1]),targets))\n",
    "#     print(error)\n",
    "#     print(filters)\n",
    "    back(layerNum, np.ones((filterNum,filterSize,filterSize)))\n",
    "#     print(filters)"
   ]
  },
  {
   "cell_type": "code",
   "execution_count": null,
   "metadata": {
    "collapsed": true
   },
   "outputs": [],
   "source": []
  },
  {
   "cell_type": "code",
   "execution_count": null,
   "metadata": {
    "collapsed": true
   },
   "outputs": [],
   "source": []
  }
 ],
 "metadata": {
  "kernelspec": {
   "display_name": "Python 3",
   "language": "python",
   "name": "python3"
  },
  "language_info": {
   "codemirror_mode": {
    "name": "ipython",
    "version": 3
   },
   "file_extension": ".py",
   "mimetype": "text/x-python",
   "name": "python",
   "nbconvert_exporter": "python",
   "pygments_lexer": "ipython3",
   "version": "3.6.0"
  }
 },
 "nbformat": 4,
 "nbformat_minor": 2
}
