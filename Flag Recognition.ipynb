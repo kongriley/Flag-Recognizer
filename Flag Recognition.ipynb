{
 "cells": [
  {
   "cell_type": "code",
   "execution_count": 1,
   "metadata": {
    "collapsed": false
   },
   "outputs": [],
   "source": [
    "from numpy import exp, array, random, dot\n",
    "import numpy as np\n",
    "from scipy import misc\n",
    "import skimage"
   ]
  },
  {
   "cell_type": "code",
   "execution_count": 2,
   "metadata": {
    "collapsed": false
   },
   "outputs": [],
   "source": [
    "arr1 = np.divide(misc.imread('tAmerica1.png'),255)\n",
    "arr1r = arr1[:,:,0]\n",
    "arr1g = arr1[:,:,1]\n",
    "arr1b = arr1[:,:,2]\n",
    "arr2 = np.divide(misc.imread('tAmerica2.png'),255)\n",
    "arr2r = arr2[:,:,0]\n",
    "arr2g = arr2[:,:,1]\n",
    "arr2b = arr2[:,:,2]"
   ]
  },
  {
   "cell_type": "code",
   "execution_count": 3,
   "metadata": {
    "collapsed": false
   },
   "outputs": [],
   "source": [
    "filterNum = 9\n",
    "filterSize = 10\n",
    "filters = []"
   ]
  },
  {
   "cell_type": "code",
   "execution_count": 4,
   "metadata": {
    "collapsed": false
   },
   "outputs": [
    {
     "name": "stdout",
     "output_type": "stream",
     "text": [
      "[[[ 0.93084124  0.03741119  0.82461069 ...,  0.21835614  0.26835747\n",
      "    0.70433193]\n",
      "  [ 0.44718998  0.38549287  0.65402851 ...,  0.07449585  0.54762847\n",
      "    0.76818892]\n",
      "  [ 0.57058796  0.87516988  0.20830327 ...,  0.94211826  0.83562878\n",
      "    0.416737  ]\n",
      "  ..., \n",
      "  [ 0.72731244  0.93684465  0.25006428 ...,  0.11001279  0.97701543\n",
      "    0.23201925]\n",
      "  [ 0.76299833  0.04023549  0.74050822 ...,  0.21274302  0.50539476\n",
      "    0.14658305]\n",
      "  [ 0.4291448   0.11298959  0.18081149 ...,  0.33019516  0.44082385\n",
      "    0.31278764]]\n",
      "\n",
      " [[ 0.47534794  0.68267124  0.0443853  ...,  0.518938    0.75856786\n",
      "    0.52873015]\n",
      "  [ 0.0125167   0.47415005  0.07014545 ...,  0.32423567  0.32294799\n",
      "    0.3214454 ]\n",
      "  [ 0.75850092  0.43243206  0.37278984 ...,  0.05315543  0.63462938\n",
      "    0.83087577]\n",
      "  ..., \n",
      "  [ 0.94852583  0.33901094  0.22093062 ...,  0.212252    0.08091045\n",
      "    0.32180759]\n",
      "  [ 0.83324792  0.77270611  0.93072228 ...,  0.00703607  0.96446296\n",
      "    0.69424217]\n",
      "  [ 0.56875874  0.53387446  0.31875799 ...,  0.64514937  0.80824722\n",
      "    0.08595349]]\n",
      "\n",
      " [[ 0.84164464  0.85605706  0.1894376  ...,  0.02365989  0.58337818\n",
      "    0.12319471]\n",
      "  [ 0.53186967  0.70797858  0.00922936 ...,  0.9090578   0.78086039\n",
      "    0.7876829 ]\n",
      "  [ 0.20253777  0.15785269  0.08343115 ...,  0.06296449  0.90830763\n",
      "    0.76196396]\n",
      "  ..., \n",
      "  [ 0.63016372  0.5349963   0.28438449 ...,  0.9732033   0.90114594\n",
      "    0.49552613]\n",
      "  [ 0.16137087  0.40611962  0.25640571 ...,  0.75532634  0.73117046\n",
      "    0.98880615]\n",
      "  [ 0.49042846  0.88051676  0.74200222 ...,  0.28487075  0.22983023\n",
      "    0.30098359]]\n",
      "\n",
      " ..., \n",
      " [[ 0.13963221  0.78492625  0.28069554 ...,  0.32784587  0.68650029\n",
      "    0.90857593]\n",
      "  [ 0.27322358  0.52484075  0.47922147 ...,  0.34350401  0.68008799\n",
      "    0.78534333]\n",
      "  [ 0.75327626  0.79640552  0.15742102 ...,  0.72745787  0.99571407\n",
      "    0.58994625]\n",
      "  ..., \n",
      "  [ 0.73895145  0.84912402  0.74693024 ...,  0.32902811  0.39504163\n",
      "    0.82170789]\n",
      "  [ 0.10726448  0.51082958  0.06310733 ...,  0.67482799  0.59793195\n",
      "    0.94986362]\n",
      "  [ 0.83111529  0.49127526  0.02169603 ...,  0.50511243  0.39288339\n",
      "    0.61621634]]\n",
      "\n",
      " [[ 0.20905579  0.96380671  0.17126848 ...,  0.51536807  0.83844993\n",
      "    0.26493068]\n",
      "  [ 0.20417262  0.81992877  0.63002551 ...,  0.32036761  0.13443379\n",
      "    0.75139608]\n",
      "  [ 0.14914952  0.62243191  0.44903304 ...,  0.57497734  0.99066093\n",
      "    0.09832297]\n",
      "  ..., \n",
      "  [ 0.82993893  0.29501461  0.40870294 ...,  0.54024137  0.89726033\n",
      "    0.17597762]\n",
      "  [ 0.41294983  0.65566506  0.97476276 ...,  0.8216081   0.40611431\n",
      "    0.8498922 ]\n",
      "  [ 0.06467779  0.83331105  0.22906767 ...,  0.82862493  0.66859456\n",
      "    0.80761051]]\n",
      "\n",
      " [[ 0.64248386  0.4989476   0.66485422 ...,  0.25658987  0.79526257\n",
      "    0.45897395]\n",
      "  [ 0.30226062  0.1971801   0.35101048 ...,  0.67122591  0.84670308\n",
      "    0.2854149 ]\n",
      "  [ 0.11287231  0.10906745  0.20958751 ...,  0.05683923  0.74938429\n",
      "    0.31708612]\n",
      "  ..., \n",
      "  [ 0.70717304  0.63236022  0.49750781 ...,  0.06882075  0.15513193\n",
      "    0.4859427 ]\n",
      "  [ 0.71307225  0.42235892  0.41081028 ...,  0.20237252  0.72633053\n",
      "    0.01250261]\n",
      "  [ 0.86443176  0.36087367  0.73229084 ...,  0.45457732  0.97482125\n",
      "    0.8229772 ]]]\n"
     ]
    }
   ],
   "source": [
    "for x in range(filterSize*3):\n",
    "    filters += [random.random((filterSize,filterSize))]\n",
    "filters = array(filters)\n",
    "print(filters)"
   ]
  },
  {
   "cell_type": "code",
   "execution_count": 5,
   "metadata": {
    "collapsed": false
   },
   "outputs": [
    {
     "name": "stdout",
     "output_type": "stream",
     "text": [
      "0.291998528467\n"
     ]
    }
   ],
   "source": [
    "def activation(x, deriv=False):\n",
    "    if deriv:\n",
    "        return (-1)/(x+1)/(x+1)+1\n",
    "    return 1/(x+1)+x-1\n",
    "def apply(filterArr, img, row, col):\n",
    "    value = 0\n",
    "    for y in range(len(filterArr)):\n",
    "        for x in range(len(filterArr[0])):\n",
    "            value += img[y+row][x+col]*filterArr[y][x]\n",
    "    return value/np.sum(filterArr)\n",
    "print(apply(filters[0],arr1r,0,0))"
   ]
  },
  {
   "cell_type": "code",
   "execution_count": 10,
   "metadata": {
    "collapsed": false
   },
   "outputs": [
    {
     "name": "stdout",
     "output_type": "stream",
     "text": [
      "148\n",
      "290\n"
     ]
    },
    {
     "ename": "IndexError",
     "evalue": "list index out of range",
     "output_type": "error",
     "traceback": [
      "\u001b[0;31m---------------------------------------------------------------------------\u001b[0m",
      "\u001b[0;31mIndexError\u001b[0m                                Traceback (most recent call last)",
      "\u001b[0;32m<ipython-input-10-0b822748add0>\u001b[0m in \u001b[0;36m<module>\u001b[0;34m()\u001b[0m\n\u001b[1;32m      7\u001b[0m \u001b[0mprint\u001b[0m\u001b[0;34m(\u001b[0m\u001b[0mlen\u001b[0m\u001b[0;34m(\u001b[0m\u001b[0marr1r\u001b[0m\u001b[0;34m[\u001b[0m\u001b[0;36m0\u001b[0m\u001b[0;34m]\u001b[0m\u001b[0;34m)\u001b[0m\u001b[0;34m-\u001b[0m\u001b[0mfilterSize\u001b[0m\u001b[0;34m)\u001b[0m\u001b[0;34m\u001b[0m\u001b[0m\n\u001b[1;32m      8\u001b[0m \u001b[0;31m#print([[0]*(len(arr1r)-filterSize)]*(len(arr1r[0])-filterSize))\u001b[0m\u001b[0;34m\u001b[0m\u001b[0;34m\u001b[0m\u001b[0m\n\u001b[0;32m----> 9\u001b[0;31m \u001b[0mprint\u001b[0m\u001b[0;34m(\u001b[0m\u001b[0mapplyFilters\u001b[0m\u001b[0;34m(\u001b[0m\u001b[0marr1r\u001b[0m\u001b[0;34m,\u001b[0m \u001b[0;34m[\u001b[0m\u001b[0;34m[\u001b[0m\u001b[0;36m0\u001b[0m\u001b[0;34m]\u001b[0m\u001b[0;34m*\u001b[0m\u001b[0;34m(\u001b[0m\u001b[0mlen\u001b[0m\u001b[0;34m(\u001b[0m\u001b[0marr1r\u001b[0m\u001b[0;34m)\u001b[0m\u001b[0;34m-\u001b[0m\u001b[0mfilterSize\u001b[0m\u001b[0;34m)\u001b[0m\u001b[0;34m]\u001b[0m\u001b[0;34m*\u001b[0m\u001b[0;34m(\u001b[0m\u001b[0mlen\u001b[0m\u001b[0;34m(\u001b[0m\u001b[0marr1r\u001b[0m\u001b[0;34m[\u001b[0m\u001b[0;36m0\u001b[0m\u001b[0;34m]\u001b[0m\u001b[0;34m)\u001b[0m\u001b[0;34m-\u001b[0m\u001b[0mfilterSize\u001b[0m\u001b[0;34m)\u001b[0m\u001b[0;34m,\u001b[0m \u001b[0mfilters\u001b[0m\u001b[0;34m[\u001b[0m\u001b[0;36m0\u001b[0m\u001b[0;34m]\u001b[0m\u001b[0;34m)\u001b[0m\u001b[0;34m)\u001b[0m\u001b[0;34m\u001b[0m\u001b[0m\n\u001b[0m",
      "\u001b[0;32m<ipython-input-10-0b822748add0>\u001b[0m in \u001b[0;36mapplyFilters\u001b[0;34m(img, new_img, filterArr)\u001b[0m\n\u001b[1;32m      2\u001b[0m     \u001b[0;32mfor\u001b[0m \u001b[0my\u001b[0m \u001b[0;32min\u001b[0m \u001b[0mrange\u001b[0m\u001b[0;34m(\u001b[0m\u001b[0mlen\u001b[0m\u001b[0;34m(\u001b[0m\u001b[0mimg\u001b[0m\u001b[0;34m)\u001b[0m\u001b[0;34m-\u001b[0m\u001b[0mfilterSize\u001b[0m\u001b[0;34m)\u001b[0m\u001b[0;34m:\u001b[0m\u001b[0;34m\u001b[0m\u001b[0m\n\u001b[1;32m      3\u001b[0m         \u001b[0;32mfor\u001b[0m \u001b[0mx\u001b[0m \u001b[0;32min\u001b[0m \u001b[0mrange\u001b[0m\u001b[0;34m(\u001b[0m\u001b[0mlen\u001b[0m\u001b[0;34m(\u001b[0m\u001b[0mimg\u001b[0m\u001b[0;34m[\u001b[0m\u001b[0my\u001b[0m\u001b[0;34m]\u001b[0m\u001b[0;34m)\u001b[0m\u001b[0;34m-\u001b[0m\u001b[0mfilterSize\u001b[0m\u001b[0;34m)\u001b[0m\u001b[0;34m:\u001b[0m\u001b[0;34m\u001b[0m\u001b[0m\n\u001b[0;32m----> 4\u001b[0;31m             \u001b[0mnew_img\u001b[0m\u001b[0;34m[\u001b[0m\u001b[0my\u001b[0m\u001b[0;34m]\u001b[0m\u001b[0;34m[\u001b[0m\u001b[0mx\u001b[0m\u001b[0;34m]\u001b[0m \u001b[0;34m+=\u001b[0m \u001b[0mactivation\u001b[0m\u001b[0;34m(\u001b[0m\u001b[0mapply\u001b[0m\u001b[0;34m(\u001b[0m\u001b[0mfilterArr\u001b[0m\u001b[0;34m,\u001b[0m\u001b[0mimg\u001b[0m\u001b[0;34m,\u001b[0m\u001b[0my\u001b[0m\u001b[0;34m,\u001b[0m\u001b[0mx\u001b[0m\u001b[0;34m)\u001b[0m\u001b[0;34m)\u001b[0m\u001b[0;34m\u001b[0m\u001b[0m\n\u001b[0m\u001b[1;32m      5\u001b[0m     \u001b[0;32mreturn\u001b[0m \u001b[0mnew_img\u001b[0m\u001b[0;34m\u001b[0m\u001b[0m\n\u001b[1;32m      6\u001b[0m \u001b[0mprint\u001b[0m\u001b[0;34m(\u001b[0m\u001b[0mlen\u001b[0m\u001b[0;34m(\u001b[0m\u001b[0;34m(\u001b[0m\u001b[0;34m[\u001b[0m\u001b[0;34m[\u001b[0m\u001b[0;36m0\u001b[0m\u001b[0;34m]\u001b[0m\u001b[0;34m*\u001b[0m\u001b[0;34m(\u001b[0m\u001b[0mlen\u001b[0m\u001b[0;34m(\u001b[0m\u001b[0marr1r\u001b[0m\u001b[0;34m)\u001b[0m\u001b[0;34m-\u001b[0m\u001b[0mfilterSize\u001b[0m\u001b[0;34m)\u001b[0m\u001b[0;34m]\u001b[0m\u001b[0;34m*\u001b[0m\u001b[0;34m(\u001b[0m\u001b[0mlen\u001b[0m\u001b[0;34m(\u001b[0m\u001b[0marr1r\u001b[0m\u001b[0;34m[\u001b[0m\u001b[0;36m0\u001b[0m\u001b[0;34m]\u001b[0m\u001b[0;34m)\u001b[0m\u001b[0;34m-\u001b[0m\u001b[0mfilterSize\u001b[0m\u001b[0;34m)\u001b[0m\u001b[0;34m)\u001b[0m\u001b[0;34m[\u001b[0m\u001b[0;36m0\u001b[0m\u001b[0;34m]\u001b[0m\u001b[0;34m)\u001b[0m\u001b[0;34m)\u001b[0m\u001b[0;34m\u001b[0m\u001b[0m\n",
      "\u001b[0;31mIndexError\u001b[0m: list index out of range"
     ]
    }
   ],
   "source": [
    "def applyFilters(img, new_img, filterArr):\n",
    "    for y in range(len(img)-filterSize):\n",
    "        for x in range(len(img[y])-filterSize):\n",
    "            new_img[y][x] += activation(apply(filterArr,img,y,x))\n",
    "    return new_img\n",
    "print(len(([[0]*(len(arr1r)-filterSize)]*(len(arr1r[0])-filterSize))[0]))\n",
    "print(len(arr1r[0])-filterSize)\n",
    "#print([[0]*(len(arr1r)-filterSize)]*(len(arr1r[0])-filterSize))\n",
    "print(applyFilters(arr1r, [[0]*(len(arr1r)-filterSize)]*(len(arr1r[0])-filterSize), filters[0]))\n"
   ]
  },
  {
   "cell_type": "code",
   "execution_count": null,
   "metadata": {
    "collapsed": true
   },
   "outputs": [],
   "source": []
  }
 ],
 "metadata": {
  "kernelspec": {
   "display_name": "Python 3",
   "language": "python",
   "name": "python3"
  },
  "language_info": {
   "codemirror_mode": {
    "name": "ipython",
    "version": 3
   },
   "file_extension": ".py",
   "mimetype": "text/x-python",
   "name": "python",
   "nbconvert_exporter": "python",
   "pygments_lexer": "ipython3",
   "version": "3.6.0"
  }
 },
 "nbformat": 4,
 "nbformat_minor": 2
}
